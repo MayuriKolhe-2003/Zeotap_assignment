{
  "nbformat": 4,
  "nbformat_minor": 0,
  "metadata": {
    "colab": {
      "provenance": []
    },
    "kernelspec": {
      "name": "python3",
      "display_name": "Python 3"
    },
    "language_info": {
      "name": "python"
    }
  },
  "cells": [
    {
      "cell_type": "markdown",
      "source": [
        "**Task 2: Lookalike Model**\n"
      ],
      "metadata": {
        "id": "PaRTj5eAqv6f"
      }
    },
    {
      "cell_type": "code",
      "source": [
        "from sklearn.feature_extraction.text import TfidfVectorizer\n",
        "from sklearn.metrics.pairwise import cosine_similarity\n",
        "import numpy as np\n",
        "import pandas as pd"
      ],
      "metadata": {
        "id": "rlPEWsiyqwnv"
      },
      "execution_count": 3,
      "outputs": []
    },
    {
      "cell_type": "code",
      "source": [
        "customers = pd.read_csv('Customers.csv')\n",
        "transactions = pd.read_csv('Transactions.csv')\n",
        "products = pd.read_csv('Products.csv')"
      ],
      "metadata": {
        "id": "5H9m-zBCrP4P"
      },
      "execution_count": 4,
      "outputs": []
    },
    {
      "cell_type": "code",
      "source": [
        "# Convert necessary columns to datetime for processing\n",
        "transactions['TransactionDate'] = pd.to_datetime(transactions['TransactionDate'])\n",
        "customers['SignupDate'] = pd.to_datetime(customers['SignupDate'])"
      ],
      "metadata": {
        "id": "RJlvt1vurGkH"
      },
      "execution_count": 6,
      "outputs": []
    },
    {
      "cell_type": "code",
      "source": [
        "# Merge datasets for holistic analysis\n",
        "merged_data = transactions.merge(customers, on=\"CustomerID\").merge(products, on=\"ProductID\")\n"
      ],
      "metadata": {
        "id": "SX0RjlnsrZp9"
      },
      "execution_count": 7,
      "outputs": []
    },
    {
      "cell_type": "code",
      "source": [
        "# Combine customer and product information into a profile description\n",
        "merged_data['ProfileDescription'] = (\n",
        "    merged_data['CustomerName'] + \" \" +\n",
        "    merged_data['Region'] + \" \" +\n",
        "    merged_data['Category'] + \" \" +\n",
        "    merged_data['ProductName']\n",
        ")"
      ],
      "metadata": {
        "id": "FeVdVb-4rnPQ"
      },
      "execution_count": 8,
      "outputs": []
    },
    {
      "cell_type": "code",
      "source": [
        "# Aggregate profiles for each customer\n",
        "customer_profiles = merged_data.groupby('CustomerID')['ProfileDescription'].apply(lambda x: ' '.join(x)).reset_index()# Vectorize profile descriptions using TF-IDF\n",
        "vectorizer = TfidfVectorizer()\n",
        "tfidf_matrix = vectorizer.fit_transform(customer_profiles['ProfileDescription'])\n",
        "\n",
        "# Compute cosine similarity matrix\n",
        "similarity_matrix = cosine_similarity(tfidf_matrix)"
      ],
      "metadata": {
        "id": "zpnc-pVKrpg-"
      },
      "execution_count": 10,
      "outputs": []
    },
    {
      "cell_type": "code",
      "source": [
        "# Build lookalike recommendations for the first 20 customers\n",
        "customer_ids = customer_profiles['CustomerID']\n",
        "lookalike_results = {}"
      ],
      "metadata": {
        "id": "gjFhO4dbrrcc"
      },
      "execution_count": 11,
      "outputs": []
    },
    {
      "cell_type": "code",
      "source": [
        "for i, customer_id in enumerate(customer_ids[:20]):  # Limit to first 20 customers\n",
        "    similarity_scores = list(enumerate(similarity_matrix[i]))\n",
        "    # Sort by similarity score, excluding self-comparison\n",
        "    similar_customers = sorted(similarity_scores, key=lambda x: x[1], reverse=True)[1:4]\n",
        "    # Map customer to top 3 similar customers with scores\n",
        "    lookalike_results[customer_id] = [(customer_ids[idx], score) for idx, score in similar_customers]"
      ],
      "metadata": {
        "id": "tNwnstuRrvcH"
      },
      "execution_count": 12,
      "outputs": []
    },
    {
      "cell_type": "code",
      "source": [
        "# Create a DataFrame for the lookalike results\n",
        "lookalike_df = pd.DataFrame([\n",
        "    {\"cust_id\": cust_id, \"lookalikes\": str(lookalikes)}\n",
        "    for cust_id, lookalikes in lookalike_results.items()\n",
        "])"
      ],
      "metadata": {
        "id": "jbw54hafrxRm"
      },
      "execution_count": 13,
      "outputs": []
    },
    {
      "cell_type": "code",
      "source": [
        "lookalike_csv_path = 'Lookalike.csv'\n",
        "lookalike_df.to_csv(lookalike_csv_path, index=False)"
      ],
      "metadata": {
        "id": "OZZkzBIory1Z"
      },
      "execution_count": 14,
      "outputs": []
    },
    {
      "cell_type": "code",
      "source": [],
      "metadata": {
        "id": "DILZ4lU_r1qA"
      },
      "execution_count": null,
      "outputs": []
    }
  ]
}